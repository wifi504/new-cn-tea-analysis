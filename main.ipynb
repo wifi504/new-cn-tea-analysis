{
 "cells": [
  {
   "cell_type": "markdown",
   "metadata": {},
   "source": [
    "# <center><b>川渝地区新中式茶饮消费现状与意愿调查</b></center>"
   ]
  },
  {
   "cell_type": "markdown",
   "metadata": {},
   "source": [
    "> 提前导入库"
   ]
  },
  {
   "cell_type": "code",
   "execution_count": 1,
   "metadata": {},
   "outputs": [],
   "source": [
    "import numpy as np\n",
    "import pandas as pd\n",
    "import matplotlib.pyplot as plt\n",
    "import matplotlib\n",
    "import seaborn as sns\n",
    "import warnings\n",
    "\n",
    "\n",
    "# 忽略无关警告\n",
    "warnings.filterwarnings('ignore')\n",
    "\n",
    "# 图像可以显示中文\n",
    "matplotlib.rcParams['font.sans-serif'] = ['STSong']\n",
    "matplotlib.rcParams['axes.unicode_minus'] = False\n",
    "\n",
    "# 设置，使得数据对齐\n",
    "pd.set_option('display.max_rows', None)\n",
    "pd.set_option('display.unicode.ambiguous_as_wide', True)\n",
    "pd.set_option('display.unicode.east_asian_width', True)\n",
    "\n",
    "# 设置随机种子\n",
    "np.random.seed(114514)"
   ]
  },
  {
   "cell_type": "markdown",
   "metadata": {},
   "source": [
    "## 1. 数据读取与探索性分析"
   ]
  },
  {
   "cell_type": "code",
   "execution_count": 8,
   "metadata": {},
   "outputs": [
    {
     "name": "stdout",
     "output_type": "stream",
     "text": [
      "<class 'pandas.core.frame.DataFrame'>\n",
      "RangeIndex: 105 entries, 0 to 104\n",
      "Data columns (total 49 columns):\n",
      " #   Column                               Non-Null Count  Dtype\n",
      "---  ------                               --------------  -----\n",
      " 0   产品质量—口味                              105 non-null    int64\n",
      " 1   口感                                   105 non-null    int64\n",
      " 2   原料健康程度                               105 non-null    int64\n",
      " 3   特色度                                  105 non-null    int64\n",
      " 4   附属产品—包装精美                            105 non-null    int64\n",
      " 5   容器质量                                 105 non-null    int64\n",
      " 6   赠品迷人                                 105 non-null    int64\n",
      " 7   价格因素—价格合理                            105 non-null    int64\n",
      " 8   促销力度                                 105 non-null    int64\n",
      " 9   性价比高                                 105 non-null    int64\n",
      " 10  服务—店员服务态度                            105 non-null    int64\n",
      " 11  平台服务                                 105 non-null    int64\n",
      " 12  产品介绍和推荐                              105 non-null    int64\n",
      " 13  点单指导                                 105 non-null    int64\n",
      " 14  门店环境                                 105 non-null    int64\n",
      " 15  消费者偏好—养生重视度                          105 non-null    int64\n",
      " 16  国潮喜爱程度                               105 non-null    int64\n",
      " 17  茶文化认同感                               105 non-null    int64\n",
      " 18  茶饮名称好听                               105 non-null    int64\n",
      " 19  围炉煮茶氛围感                              105 non-null    int64\n",
      " 20  营销推广度—联名/周边                          105 non-null    int64\n",
      " 21  茶饮品牌知名度                              105 non-null    int64\n",
      " 22  产品曝光度                                105 non-null    int64\n",
      " 23  顾客认可度                                105 non-null    int64\n",
      " 24  持续购买意愿—我计划不久后复购喝过的新中式茶饮              105 non-null    int64\n",
      " 25  以后我会持续购买新中式茶饮                        105 non-null    int64\n",
      " 26  我愿意尝试更多种类的新中式茶饮                      105 non-null    int64\n",
      " 27  价格劣势—新中式茶饮相对其他茶饮价格较高                 105 non-null    int64\n",
      " 28  新中式茶饮性价比较低                           105 non-null    int64\n",
      " 29  新中式茶饮价格不合理                           105 non-null    int64\n",
      " 30  认知程度—我不了解新中式茶饮的原材料                   105 non-null    int64\n",
      " 31  我不清楚新中式茶饮的优点                         105 non-null    int64\n",
      " 32  我不知道新中式茶饮的价格行情                       105 non-null    int64\n",
      " 33  感知风险—担心新中式茶饮口味质量不佳                   105 non-null    int64\n",
      " 34  担心新中式茶饮会使自身变胖，违背瘦身意愿                 105 non-null    int64\n",
      " 35  担心新中式茶饮无合法营业执照、不卫生                   105 non-null    int64\n",
      " 36  评论的无效性—评论列表中负面评论日期越近，越不会轻易尝试购买新中式茶饮  105 non-null    int64\n",
      " 37  评论列表中负面评论越靠前，我越认为新中式茶饮差              105 non-null    int64\n",
      " 38  产品评论中负面评论越集中，越容易对新中式茶饮印象差            105 non-null    int64\n",
      " 39  评论的不确定性—评论使我无法判断新中式茶饮的真正质量及有效性       105 non-null    int64\n",
      " 40  无法确定新中式茶饮的设计内容或整体口感适合自身情况            105 non-null    int64\n",
      " 41  看过评论后我无法确定去尝试购买                      105 non-null    int64\n",
      " 42  负面感情倾向—消极情感倾向的负面评论会使我对新中式茶饮的印象更差     105 non-null    int64\n",
      " 43  具有负向情感色彩描述的负面评论会使我对新中式茶饮的质量更不可信      105 non-null    int64\n",
      " 44  负面评论的数量越多使我对新中式茶饮的评价更差               105 non-null    int64\n",
      " 45  购买意愿—我更倾向于向他人推荐新中式茶饮                 105 non-null    int64\n",
      " 46  我依旧持怀疑态度，打算观察一段时间后再做决定               105 non-null    int64\n",
      " 47  我依然偏好新中式茶饮之外的其他茶饮                    105 non-null    int64\n",
      " 48  我打算不久之后尝试购买新中式茶饮                     105 non-null    int64\n",
      "dtypes: int64(49)\n",
      "memory usage: 40.3 KB\n"
     ]
    }
   ],
   "source": [
    "raw_data = pd.read_excel('resources\\pre_inquiry.xlsx')\\\n",
    "    .iloc[:,1:-1] # 排除掉 序号 | 词云数据\n",
    "raw_data.info()"
   ]
  },
  {
   "cell_type": "markdown",
   "metadata": {},
   "source": [
    "这个数据集是完整的，没有缺失值，包含了105条记录和49个整数类型的特征，现在可以进行后续的数据分析或机器学习处理。"
   ]
  }
 ],
 "metadata": {
  "kernelspec": {
   "display_name": "Python 3 (ipykernel)",
   "language": "python",
   "name": "python3"
  },
  "language_info": {
   "codemirror_mode": {
    "name": "ipython",
    "version": 3
   },
   "file_extension": ".py",
   "mimetype": "text/x-python",
   "name": "python",
   "nbconvert_exporter": "python",
   "pygments_lexer": "ipython3",
   "version": "3.9.7"
  }
 },
 "nbformat": 4,
 "nbformat_minor": 4
}